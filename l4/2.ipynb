{
 "cells": [
  {
   "cell_type": "code",
   "execution_count": null,
   "metadata": {},
   "outputs": [],
   "source": [
    "age=18\n",
    "if age<18:\n",
    "\tprint(\"<18\")\n",
    "else:\n",
    "\tprint(\">=18\")\n",
    "print(\"end\")"
   ]
  },
  {
   "cell_type": "code",
   "execution_count": null,
   "metadata": {},
   "outputs": [],
   "source": [
    "s=int(input(\"input int(0-300)\"))\n",
    "y_n=input(\"y/n\")\n",
    "if y_n=='y':\n",
    "    s *= 1.05\n",
    "    if s>300:\n",
    "        s=300\n",
    "\n",
    "#print('分数'+ str(s))\n",
    "print(f'分数={s}')\n"
   ]
  },
  {
   "cell_type": "code",
   "execution_count": null,
   "metadata": {},
   "outputs": [],
   "source": [
    "try:\n",
    "    s=int(input(\"input int(0-300)\"))\n",
    "except:\n",
    "    print(\"input err\")\n",
    "else:\n",
    "    y_n=input(\"y/n\")\n",
    "    if y_n=='y':\n",
    "        s *= 1.05\n",
    "        if s>300:\n",
    "            s=300\n",
    "\n",
    "#print('分数'+ str(s))\n",
    "    print(f'分数={s}')\n",
    "    \n",
    "print('end')"
   ]
  },
  {
   "cell_type": "code",
   "execution_count": null,
   "metadata": {},
   "outputs": [],
   "source": [
    "try:\n",
    "    s=int(input(\"input int(0-300)\"))\n",
    "    #RAISE NameError\n",
    "except ValueError:\n",
    "    print('err1')\n",
    "except Exception:    \n",
    "    print(\"input err2\")\n",
    "else:\n",
    "    y_n=input(\"y/n\")\n",
    "    if y_n=='y':\n",
    "        s *= 1.05\n",
    "        if s>300:\n",
    "            s=300\n",
    "\n",
    "#print('分数'+ str(s))\n",
    "    print(f'分数={s}')\n",
    "    \n",
    "print('end')"
   ]
  },
  {
   "cell_type": "code",
   "execution_count": 25,
   "metadata": {},
   "outputs": [
    {
     "name": "stdout",
     "output_type": "stream",
     "text": [
      "錯誤:>300 error\n",
      "應用程式結束\n"
     ]
    }
   ],
   "source": [
    "#學生總分為300\n",
    "#有些學生可以加分5%\n",
    "#如果加分超過300,就以300分為準\n",
    "\n",
    "try:\n",
    "    score = int(input(\"請輸入學生分數(最高300分):\"))\n",
    "    if score>300:\n",
    "        raise Exception(\">300 error\")\n",
    "    is_add = input(\"學生是否符合加分條件?(y,n)\")\n",
    "\n",
    "    if is_add == 'y':\n",
    "        score *= 1.05\n",
    "        if score > 300:\n",
    "            score = 300\n",
    "\n",
    "    #print('學生分數是' + str(score))\n",
    "    print(f'學生分數是{score}')\n",
    "except ValueError:\n",
    "    print(\"輸入格式有錯\")\n",
    "except Exception as e:\n",
    "    print(f\"錯誤:{e}\")\n",
    "\n",
    "    \n",
    "\n",
    "print(\"應用程式結束\")\n"
   ]
  },
  {
   "cell_type": "code",
   "execution_count": 26,
   "metadata": {},
   "outputs": [
    {
     "name": "stdout",
     "output_type": "stream",
     "text": [
      "<80\n"
     ]
    }
   ],
   "source": [
    "value=76\n",
    "if value>=90:\n",
    "    print('>=90')\n",
    "elif value >=80:\n",
    "    print('>=80, <90')\n",
    "else:\n",
    "    print('<80')"
   ]
  },
  {
   "cell_type": "code",
   "execution_count": null,
   "metadata": {},
   "outputs": [],
   "source": []
  },
  {
   "cell_type": "code",
   "execution_count": null,
   "metadata": {},
   "outputs": [],
   "source": []
  },
  {
   "cell_type": "code",
   "execution_count": null,
   "metadata": {},
   "outputs": [],
   "source": []
  },
  {
   "cell_type": "code",
   "execution_count": null,
   "metadata": {},
   "outputs": [],
   "source": []
  }
 ],
 "metadata": {
  "kernelspec": {
   "display_name": "venv1",
   "language": "python",
   "name": "python3"
  },
  "language_info": {
   "codemirror_mode": {
    "name": "ipython",
    "version": 3
   },
   "file_extension": ".py",
   "mimetype": "text/x-python",
   "name": "python",
   "nbconvert_exporter": "python",
   "pygments_lexer": "ipython3",
   "version": "3.11.9"
  }
 },
 "nbformat": 4,
 "nbformat_minor": 2
}
